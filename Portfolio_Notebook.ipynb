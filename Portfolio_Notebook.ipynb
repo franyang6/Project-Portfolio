{
  "nbformat": 4,
  "nbformat_minor": 0,
  "metadata": {
    "colab": {
      "provenance": []
    },
    "kernelspec": {
      "name": "python3",
      "display_name": "Python 3"
    },
    "language_info": {
      "name": "python"
    }
  },
  "cells": [
    {
      "cell_type": "markdown",
      "source": [
        "Within this repository, you'll find three distinct projects that cover different areas of machine learning, including predictive classification with U.N. World Happiness Data, image classification with Covid Positive X-Ray image data, and text classification using the Stanford SST Sentiment Dataset. Each project is meticulously crafted with its own set of code, data, and documentation, providing a comprehensive and immersive learning experience. By exploring these projects, you'll be able to dive into the world of machine learning and experiment with the latest techniques and tools."
      ],
      "metadata": {
        "id": "VZviqNM6BRpQ"
      }
    },
    {
      "cell_type": "markdown",
      "source": [
        "# Project 1\n",
        "In the first project, I aimed to predict the happiness level classification of different countries using the U.N. world happiness data. I utilized each country's individual features, including GDP per capita, social support, healthy life expectancy, freedom to make life choices, generosity, perceptions of corruption, sub-region, and terrorist attacks, to build a predictive model that could classify a country's happiness level into one of five categories: 'Average', 'High', 'Low', 'Very High', and 'Very Low'.\n",
        "\n",
        "To begin, I conducted a bivariate analysis to explore potential relationships between specific features and the target variable, happiness level classification. This analysis allowed me to gain a preliminary understanding of which variables might be most influential in predicting happiness level.\n",
        "\n",
        "Next, I utilized various machine learning techniques to build a predictive model for happiness level classification. I examined features that predict happiness categories using one or more models that allow for automatic feature selection and preprocessed data using the Sklearn Column Transformer. I fitted several models, including the ExtraTreesClassifier, Gradient Boosting Classifier, and Random Forest, and identified the Gradient Boosting Classifier with a 1.2 learning rate and 1 max_depth as the best model.\n",
        "\n",
        "After consulting with my team, I experimented with three additional models, all using Keras Sequential models with different layers. Through these experiments, I aimed to further refine my model and improve its accuracy in predicting happiness level classification. Ultimately, my project yielded impressive results and demonstrated the potential of machine learning techniques in predicting happiness level classification."
      ],
      "metadata": {
        "id": "gs65kHhC-qe5"
      }
    },
    {
      "cell_type": "markdown",
      "source": [
        "# Project 2\n",
        "In another one of my machine learning projects, I leveraged a dataset of Covid Positive X-Ray images to create a highly accurate image classification model. The main objective of this project was to develop a reliable tool that could assist healthcare professionals in accurately diagnosing Covid-19 cases, which has become a crucial need during the ongoing global pandemic.\n",
        "\n",
        "I began by performing a comprehensive analysis of the x-ray images to visualize the differences between images showing signs of Covid-19 and those that do not. After that, I implemented various pre-processing techniques, such as normalization, data augmentation, and resizing, to prepare the image data for model training. To build a highly accurate model, I utilized Convolutional Neural Network (CNN) models, which are highly effective for image classification tasks, using TensorFlow and Keras. I also tried out two transfer learning models - InceptionV3 and InceptionResNetV2, which allowed me to train and evaluate the model on the Covid Positive X-Ray image data.\n",
        "\n",
        "The results of my work were highly impressive, with the InceptionResNetV2 model achieving an accuracy rate of 95.58% and an F1 score of 95.59% in identifying Covid-19 cases in x-ray images. However, I did not stop there and continued to fine-tune my model with different numbers of trainable layers and tried out another transfer learning model, EfficientNetB7. Ultimately, I achieved the highest accuracy (96.36%) and F1 score (96.37%) with InceptionResNetV2 using 50 trainable layers with SGD optimizer. This project was a significant accomplishment and earned me the first place in the Covid Mini Hackson, which was a testament to my expertise and dedication to using machine learning techniques to solve critical real-world problems, especially in the healthcare sector."
      ],
      "metadata": {
        "id": "tBGnZZrr-0mZ"
      }
    },
    {
      "cell_type": "markdown",
      "source": [
        "# Project 3\n",
        "In yet another project, I used the Stanford SST Sentiment Dataset to develop a text classification model capable of accurately determining the sentiment of a given movie review as either positive or negative. To achieve this, I utilized various text data preprocessing techniques, including stemming, stop-word removal, and tokenization.\n",
        "\n",
        "Afterward, I created several deep learning models for text classification, such as a sequential model with embedding and LSTM layers, a sequential model with embedding and Conv1d layers, and transfer learning with glove embeddings. I evaluated each model's performance and optimized them to enhance accuracy rates. The best model is a sequential model with an embedding layer with a maximum length of 80 and an embedding size of 32 with a Conv1D layer and maxpooling1D. The model achieved an accuracy of 0.779, an f1 score of 0.778, a precision of 0.788, and a recall of 0.779.\n",
        "\n",
        "This project demonstrated the potential of machine learning techniques in text analysis and highlighted the importance of utilizing data to gain valuable insights into human sentiment. With its ability to accurately identify sentiment in text data, the model could have numerous applications in industries such as marketing, social media analysis, and customer service."
      ],
      "metadata": {
        "id": "pl7L5M3XAsR9"
      }
    },
    {
      "cell_type": "markdown",
      "source": [
        "Through my experience in these projects, I have gained valuable insights into the machine learning workflow, from data pre-processing and model selection to evaluation and deployment. Each project is built using best practices and adheres to industry standards, ensuring that the code is efficient, maintainable, and scalable. Whether you're a novice seeking to learn the basics of machine learning or an experienced practitioner looking to expand your skillset, this repository has something to offer.\n",
        "\n",
        "I would like to express my sincere gratitude for your interest in my GitHub repository of machine learning projects. I trust that these projects have provided you with a glimpse of the vast possibilities within the field of machine learning and encouraged you to explore further. As I continue to work on new projects and refine my techniques and tools, I will be regularly updating this repository. Therefore, I encourage you to revisit this repository frequently for the latest content.\n",
        "\n",
        "Should you have any queries, comments, or feedback on any of the projects within this repository, I invite you to reach out to me via GitHub Issues. I am committed to continuously improving my skills and knowledge and welcome any insights you may offer.\n",
        "\n",
        "Finally, I would like to express my deep appreciation to the open-source community for providing the opportunity to share my work with you. Without the support and contributions of others, this repository would not exist. I firmly believe that collaboration is essential to the advancement of the field of machine learning, and I look forward to joining forces with other practitioners to continue innovating and developing impactful solutions for real-world problems."
      ],
      "metadata": {
        "id": "QzDBM7WRDAgd"
      }
    }
  ]
}